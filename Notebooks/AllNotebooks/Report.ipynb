{
 "cells": [
  {
   "cell_type": "markdown",
   "metadata": {},
   "source": [
    "# Project Report"
   ]
  },
  {
   "cell_type": "markdown",
   "metadata": {},
   "source": [
    "\n",
    "<h1><center>Table of Models</center></h1>\n",
    "\n",
    "| Model | Validation | Training | Leaderboard |\n",
    "| ----- | ---------- | -------- | ----------  |\n",
    "| Neural Net(No Bias & No Data Balance) | 96% | 96% | 50 % |\n",
    "|Neural Net(Bias & No Data Balance) | 88% | 91% | 65% |\n",
    "| Neural Net(Bias & Data Balance) | 89% | 93% | 79% |\n",
    "\n",
    "\n",
    "\n"
   ]
  },
  {
   "cell_type": "markdown",
   "metadata": {},
   "source": [
    "### Neural Net(No Bias & No Data Balance)\n",
    "#### For this model we gave it the features of:\n",
    "1. SIZE - Organization Size\n",
    "2. BIG4 - Audit Firm Size\n",
    "3. GAAP - Organization Form\n",
    "4. QR - Quick Ratio\n",
    "5. NWC - Net Working Capital\n",
    "\n",
    "#### How it was trained\n",
    "We trained this with a tensorflow neural network model. It was trained using some randomly selected features. This model had 2 hidden layers comprised of 128 nodes and 256 nodes. This number of nodes was way too high because we only had 5 features. These features and number of nodes were somewhat randomly selected and did not produce a good model at all."
   ]
  },
  {
   "cell_type": "markdown",
   "metadata": {},
   "source": [
    "### Adding Bias\n",
    "After this model we added a bias to our data.\n",
    "The reason for this was because we noticed that our model was never predicting a hospital to be in distress. We began to research into this and found out that only 4% of our training data(around 170 data points) had hospitals in distress. When we noticed that our model was getting 4% inaccuracy on validation, we realized it was because of the imbalanced data."
   ]
  },
  {
   "cell_type": "markdown",
   "metadata": {},
   "source": [
    "### Neural Net(Bias & No Data Balance)\n",
    "#### For this model we gave it the features of:\n",
    "1. SIZE - Organization Size\n",
    "2. BIG4 - Audit Firm Size\n",
    "3. GAAP - Organization Form\n",
    "4. CR - Current Ratio\n",
    "5. TM - Total Margin\n",
    "6. EF - Equity Financing Ratio\n",
    "7. ACP - Average Collection Period\n",
    "8. DR - Debt Ratio\n",
    "9. APP - Average Age of Plant\n",
    "\n",
    "#### How it was trained:\n",
    "We trained this with a tensorflow neural network model. It was trained using these 9 features.\n",
    "This model used 2 hidden layers, one hidden layer of 8 nodes and another hidden layer of 16 nodes. We chose 8 and 16 nodes from our earlier models which had 8 features, so we had 8 nodes and stuck with it.\n",
    "The main difference between this model and the last was the fact that we added a constant bias on our model based on the proportion of distress to not distress. This helped out a little bit with our imbalanced data\n"
   ]
  },
  {
   "cell_type": "markdown",
   "metadata": {},
   "source": [
    "### Balancing The Data\n",
    "The next big step in our model was to balance the data.\n",
    "This was a much more effecient way to fix the imbalanced data than adding a bias. "
   ]
  },
  {
   "cell_type": "markdown",
   "metadata": {},
   "source": [
    "### Neural Net(Bias & Data Balance)\n",
    "#### For this model we gave it the features of:\n",
    "1. SIZE - Organization Size\n",
    "2. BIG4 - Audit Firm Size\n",
    "3. GAAP - Organization Form\n",
    "4. CR - Current Ratio\n",
    "5. TM - Total Margin\n",
    "6. EF - Equity Financing Ratio\n",
    "7. ACP - Average Collection Period\n",
    "8. DR - Debt Ratio\n",
    "9. APP - Average Age of Plant\n",
    "\n",
    "#### How it was trained\n",
    "We trained this with a tensorflow neural network model. It was trained using scaled data in order to balance out the deficiencies of data points with hospitals in distress.\n",
    "This model used 2 hidden layers, one hidden layer of 8 nodes and another hidden layer of 16 nodes. We chose 8 and 16 nodes from our earlier models which had 8 features, so we had 8 nodes and stuck with it. We had a number of iterations of 2000. We decided on this because in previous models we had tried 4000 and 6000 and even with a bias and balanced data our model still became too overfit.\n",
    "\n",
    "For this model, we also modified our bias so it was no longer based on the ratio of distress to not distress. We added a constant bias for 0 so that for our balanced data, it just had a preference to choose 0. We decided to do this because we realized that in the real world it would just be much more common to have a hospital not be in distress."
   ]
  },
  {
   "cell_type": "markdown",
   "metadata": {},
   "source": [
    "## Overall Prediction\n",
    "The technique that performed best for us was using a neural network with balanced data **AND** adding a bias to choose not in distress. \n",
    "\n",
    "This performed the best for us because balancing the data helped a lot in letting our model actually learn something, instead of just always say not in distress, and then on top of that when we told our model to have a preference to choose not distress, we didn't improve our score much on our validation data(because it was scaled with our other data), but on our actual leaderboard predication we did much better."
   ]
  },
  {
   "cell_type": "markdown",
   "metadata": {},
   "source": [
    "## Conclusion\n",
    "One of the big things that worked very well for us and helped us out a lot was creating graphs for each feature in our data.\n",
    "\n",
    "We created a jupyter notebook that created a graph for each feature with the feature being on the x-axis and the z-score being on the y-axis. We had the scatter plots colored so that datapoints that were in distress were red and not in distress were blue.\n",
    "\n",
    "This allowed us to see what features had a certain 'shape' to them on a graph, and gave us a better idea of what features might have a better opportunity for our model to learn something from them."
   ]
  }
 ],
 "metadata": {
  "kernelspec": {
   "display_name": "Python 3",
   "language": "python",
   "name": "python3"
  },
  "language_info": {
   "codemirror_mode": {
    "name": "ipython",
    "version": 3
   },
   "file_extension": ".py",
   "mimetype": "text/x-python",
   "name": "python",
   "nbconvert_exporter": "python",
   "pygments_lexer": "ipython3",
   "version": "3.6.10"
  }
 },
 "nbformat": 4,
 "nbformat_minor": 4
}
