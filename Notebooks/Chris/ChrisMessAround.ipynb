{
 "cells": [
  {
   "cell_type": "markdown",
   "metadata": {},
   "source": [
    "# Start of mess around"
   ]
  },
  {
   "cell_type": "code",
   "execution_count": 1,
   "metadata": {},
   "outputs": [],
   "source": [
    "from __future__ import print_function\n",
    "\n",
    "import numpy as np \n",
    "\n",
    "import matplotlib.pyplot as plt   # use matplotlib for plotting with inline plots\n",
    "plt.set_cmap('jet');\n",
    "%matplotlib inline\n",
    "\n",
    "import warnings\n",
    "warnings.filterwarnings('ignore'); # for deprecated matplotlib functions\n",
    "\n",
    "import math\n",
    "\n",
    "import tensorflow as tf\n",
    "from tensorflow.keras import Model, layers\n"
   ]
  },
  {
   "cell_type": "markdown",
   "metadata": {},
   "source": [
    "# Interesting imports\n",
    "In order to import mltools properly, we need to modify the module path that python thinks we have\n",
    "\n",
    "Basically it adds everything 2 folders up onto our python module path, so referencing \"mltools\" python can see that it is two directories up"
   ]
  },
  {
   "cell_type": "code",
   "execution_count": 2,
   "metadata": {
    "scrolled": false
   },
   "outputs": [],
   "source": [
    "# We need to append the module path so we can work with\n",
    "#     everything that is 2 folders up\n",
    "import sys\n",
    "import os\n",
    "from pathlib import Path\n",
    "\n",
    "path = Path(os.getcwd())\n",
    "project_dir = str(path.parent.parent)\n",
    "\n",
    "curr_path = sys.path\n",
    "data_path = \"\"\n"
   ]
  },
  {
   "cell_type": "code",
   "execution_count": 3,
   "metadata": {},
   "outputs": [
    {
     "name": "stdout",
     "output_type": "stream",
     "text": [
      "Appending' /home/chris/git/ML-FinalProject 'to path\n",
      "Appending' /home/chris/git/ML-FinalProject/data ' to path\n"
     ]
    }
   ],
   "source": [
    "if project_dir not in curr_path:\n",
    "    print(\"Appending'\", project_dir, \"'to path\")\n",
    "    sys.path.append(project_dir)\n",
    "    print(\"Appending'\", project_dir + os.path.sep + \"data '\", \"to path\")\n",
    "    sys.path.append(project_dir + os.path.sep + \"data\")\n",
    "    data_path = project_dir + os.path.sep + \"data\" + os.path.sep\n",
    "    \n",
    "# Uncomment this if youd like to see all your python module paths\n",
    "# print(sys.path)\n",
    "\n",
    "import mltools as ml"
   ]
  },
  {
   "cell_type": "markdown",
   "metadata": {},
   "source": [
    "# Import the data"
   ]
  },
  {
   "cell_type": "code",
   "execution_count": 8,
   "metadata": {
    "scrolled": true
   },
   "outputs": [
    {
     "name": "stdout",
     "output_type": "stream",
     "text": [
      "Data Labels with Column index:\n",
      "\n",
      "0: UniqueID\n",
      "1: SIZE\n",
      "2: BIG4\n",
      "3: GAAP\n",
      "4: CR\n",
      "5: QR\n",
      "6: AT\n",
      "7: CashR\n",
      "8: NWC\n",
      "9: CFOCL\n",
      "10: OM\n",
      "11: TM\n",
      "12: CFM\n",
      "13: ROE\n",
      "14: ROA\n",
      "15: GRIE\n",
      "16: CFONI\n",
      "17: CFOTL\n",
      "18: CFOTR\n",
      "19: CFOTA\n",
      "20: EF\n",
      "21: FAF\n",
      "22: LTDE\n",
      "23: CAT\n",
      "24: DCOH\n",
      "25: ACP\n",
      "26: AAP\n",
      "27: DR\n",
      "28: DSCR\n",
      "29: CFOLTL\n",
      "30: TAT\n",
      "31: FAT\n",
      "32: DEPR\n",
      "33: CFOFA\n",
      "34: APP\n",
      "35: 2008\n",
      "36: 2009\n",
      "37: 2010\n",
      "38: 2011\n",
      "39: 2012\n",
      "40: 2013\n",
      "41: 2014\n",
      "42: 2015\n",
      "43: 2016\n",
      "44: 2017\n",
      "45: 2018\n"
     ]
    }
   ],
   "source": [
    "# print(sys.path)\n",
    "# print(data_path)\n",
    "X_train = np.genfromtxt(data_path + \"X_train.txt\", delimiter=None, skip_header=1)\n",
    "X_test = np.genfromtxt(data_path + \"X_test.txt\", delimiter=None, skip_header=1)\n",
    "Y_train = np.genfromtxt(data_path + \"Y_train.txt\", delimiter=None, skip_header=1)\n",
    "Data_Labels = np.genfromtxt(data_path + \"X_train.txt\", delimiter=None, dtype=str, max_rows=1)\n",
    "\n",
    "print(\"Data Labels with Column index:\\n\")\n",
    "for i in range(len(Data_Labels)):\n",
    "    print(str(i) + \": \" + str(Data_Labels[i]))\n"
   ]
  },
  {
   "cell_type": "markdown",
   "metadata": {},
   "source": [
    "## Lets try TensorFlow"
   ]
  },
  {
   "cell_type": "code",
   "execution_count": 9,
   "metadata": {},
   "outputs": [
    {
     "name": "stdout",
     "output_type": "stream",
     "text": [
      "Columns we are currently using: ['SIZE' 'BIG4' 'GAAP' 'QR' 'NWC']\n",
      "(3582,)\n",
      "(3582, 5)\n"
     ]
    }
   ],
   "source": [
    "# Network Parameters\n",
    "n_hidden_1 = 128 # 1st layer number of neurons\n",
    "n_hidden_2 = 256 # 2nd layer number of neurons\n",
    "\n",
    "# Split the data\n",
    "cols_using = [1, 2, 3, 5, 8]\n",
    "Xtrain,Xval,Ytrain,Yval = ml.splitData(X_train[:, cols_using],Y_train[:, 0], 0.75) # split data set 75/25\n",
    "\n",
    "Xtrain, Xval = np.array(Xtrain, np.float32), np.array(Xval, np.float32)\n",
    "\n",
    "# Data Parameters\n",
    "num_features = 47\n",
    "num_classes = 2 # We have 2 classes, yes or no\n",
    "\n",
    "# Parameters\n",
    "learning_rate = 0.1    # alpha for gradient descent\n",
    "num_steps = 2000       # iterations for gradient descent\n",
    "batch_size = 256       # number of inputs to look at simultaneously (good for large data!)\n",
    "display_step = 100     # when to print out some feedback\n",
    "\n",
    "print(\"Columns we are currently using:\", Data_Labels[cols_using])\n",
    "\n",
    "print(Ytrain.shape)\n",
    "print(Xtrain.shape)\n",
    "\n",
    "# Use tf.data API to shuffle and batch data (batches will make it faster to queue up \n",
    "# sets of images for training all at one time--a convenient way to split up large data sets)\n",
    "train_data = tf.data.Dataset.from_tensor_slices((Xtrain, Ytrain))\n",
    "train_data = train_data.repeat().shuffle(5000).batch(batch_size).prefetch(1)\n"
   ]
  },
  {
   "cell_type": "markdown",
   "metadata": {},
   "source": [
    "## Create our NN model, this inherits from TF"
   ]
  },
  {
   "cell_type": "code",
   "execution_count": 10,
   "metadata": {},
   "outputs": [],
   "source": [
    "# Create TF Model. Our NeuralNet inherits from the generic TF Model class\n",
    "class NeuralNet(Model):\n",
    "    # Set layers.\n",
    "    def __init__(self):\n",
    "        super(NeuralNet, self).__init__()\n",
    "        curr_activation = tf.nn.relu\n",
    "        # First fully-connected hidden layer. Activation function (threshold function) is \n",
    "        # rectified linear.\n",
    "        self.h1 = layers.Dense(n_hidden_1, activation=curr_activation)\n",
    "        \n",
    "        # First fully-connected hidden layer. Activation function (threshold function) is \n",
    "        # rectified linear.\n",
    "        self.h2 = layers.Dense(n_hidden_2, activation=curr_activation)\n",
    "        \n",
    "        # Second fully-connecter hidden layer. Activation function is using \"softmax\" to\n",
    "        # normalize output as a probability distribution over the 2 classes (digits 0 or 1)\n",
    "        self.out = layers.Dense(num_classes, activation=tf.nn.softmax)\n",
    "\n",
    "    # Set forward pass--this defines the input layer (h1) and output layer (out) and then\n",
    "    # formats the final results as a probability distribution over the classes using softmax\n",
    "    def call(self, x, is_training=False):\n",
    "        x = self.h1(x)\n",
    "        x = self.out(x)\n",
    "        if not is_training:\n",
    "            # tf cross entropy expect logits (positions on the logistic regression sigmoid)\n",
    "            # without softmax normalization, so only apply softmax when not training.\n",
    "            x = tf.nn.softmax(x)\n",
    "        return x\n",
    "    \n",
    "# Build neural network model.\n",
    "neural_net = NeuralNet()\n"
   ]
  },
  {
   "cell_type": "markdown",
   "metadata": {},
   "source": [
    "## Specify Loss"
   ]
  },
  {
   "cell_type": "code",
   "execution_count": 11,
   "metadata": {},
   "outputs": [],
   "source": [
    "# Cross-Entropy Loss.\n",
    "# Note that this will apply 'softmax' to the logits as part of the function, so don't do\n",
    "# it before calling.\n",
    "def cross_entropy_loss(x, y):\n",
    "    # Convert labels to int 64 for tf cross-entropy function.\n",
    "    y = tf.cast(y, tf.int64)\n",
    "    # Apply softmax to logits and compute cross-entropy.\n",
    "    loss = tf.nn.sparse_softmax_cross_entropy_with_logits(labels=y, logits=x)\n",
    "    # Average loss across the batch.\n",
    "    return tf.reduce_mean(loss)\n",
    "\n",
    "# Accuracy metric. This counts how many of our predictions we get right based on \n",
    "# choosing the prediction with the highest probability. \n",
    "def accuracy(y_pred, y_true):\n",
    "    # Predicted class is the index of highest score in prediction vector (i.e. argmax).\n",
    "    correct_prediction = tf.equal(tf.argmax(y_pred, 1), tf.cast(y_true, tf.int64))\n",
    "    return tf.reduce_mean(tf.cast(correct_prediction, tf.float32), axis=-1)"
   ]
  },
  {
   "cell_type": "markdown",
   "metadata": {},
   "source": [
    "## Attempt to train?"
   ]
  },
  {
   "cell_type": "code",
   "execution_count": 13,
   "metadata": {
    "scrolled": false
   },
   "outputs": [
    {
     "name": "stdout",
     "output_type": "stream",
     "text": [
      "step: 1, loss: nan, accuracy: 0.042969\n",
      "step: 100, loss: nan, accuracy: 0.023438\n",
      "step: 200, loss: nan, accuracy: 0.027344\n",
      "step: 300, loss: nan, accuracy: 0.031250\n",
      "step: 400, loss: nan, accuracy: 0.031250\n",
      "step: 500, loss: nan, accuracy: 0.019531\n",
      "step: 600, loss: nan, accuracy: 0.027344\n",
      "step: 700, loss: nan, accuracy: 0.019531\n",
      "step: 800, loss: nan, accuracy: 0.039062\n",
      "step: 900, loss: nan, accuracy: 0.042969\n",
      "step: 1000, loss: nan, accuracy: 0.035156\n",
      "step: 1100, loss: nan, accuracy: 0.035156\n",
      "step: 1200, loss: nan, accuracy: 0.031250\n",
      "step: 1300, loss: nan, accuracy: 0.027344\n",
      "step: 1400, loss: nan, accuracy: 0.035156\n",
      "step: 1500, loss: nan, accuracy: 0.031250\n",
      "step: 1600, loss: nan, accuracy: 0.035156\n",
      "step: 1700, loss: nan, accuracy: 0.050781\n",
      "step: 1800, loss: nan, accuracy: 0.023438\n",
      "step: 1900, loss: nan, accuracy: 0.023438\n",
      "step: 2000, loss: nan, accuracy: 0.066406\n",
      "step: 2100, loss: nan, accuracy: 0.031250\n",
      "step: 2200, loss: nan, accuracy: 0.015625\n",
      "step: 2300, loss: nan, accuracy: 0.035156\n",
      "step: 2400, loss: nan, accuracy: 0.039062\n",
      "step: 2500, loss: nan, accuracy: 0.023438\n",
      "step: 2600, loss: nan, accuracy: 0.035156\n",
      "step: 2700, loss: nan, accuracy: 0.042969\n",
      "step: 2800, loss: nan, accuracy: 0.039062\n",
      "step: 2900, loss: nan, accuracy: 0.062500\n",
      "step: 3000, loss: nan, accuracy: 0.042969\n",
      "step: 3100, loss: nan, accuracy: 0.027344\n",
      "step: 3200, loss: nan, accuracy: 0.019531\n",
      "step: 3300, loss: nan, accuracy: 0.050781\n",
      "step: 3400, loss: nan, accuracy: 0.027344\n",
      "step: 3500, loss: nan, accuracy: 0.046875\n",
      "step: 3600, loss: nan, accuracy: 0.042969\n",
      "step: 3700, loss: nan, accuracy: 0.031250\n",
      "step: 3800, loss: nan, accuracy: 0.015625\n",
      "step: 3900, loss: nan, accuracy: 0.042969\n",
      "step: 4000, loss: nan, accuracy: 0.042969\n",
      "step: 4100, loss: nan, accuracy: 0.050781\n",
      "step: 4200, loss: nan, accuracy: 0.031250\n",
      "step: 4300, loss: nan, accuracy: 0.050781\n",
      "step: 4400, loss: nan, accuracy: 0.019531\n",
      "step: 4500, loss: nan, accuracy: 0.019531\n",
      "step: 4600, loss: nan, accuracy: 0.066406\n",
      "step: 4700, loss: nan, accuracy: 0.046875\n",
      "step: 4800, loss: nan, accuracy: 0.019531\n",
      "step: 4900, loss: nan, accuracy: 0.031250\n",
      "step: 5000, loss: nan, accuracy: 0.035156\n",
      "step: 5100, loss: nan, accuracy: 0.019531\n",
      "step: 5200, loss: nan, accuracy: 0.019531\n",
      "step: 5300, loss: nan, accuracy: 0.042969\n",
      "step: 5400, loss: nan, accuracy: 0.046875\n",
      "step: 5500, loss: nan, accuracy: 0.035156\n",
      "step: 5600, loss: nan, accuracy: 0.019531\n",
      "step: 5700, loss: nan, accuracy: 0.007812\n",
      "step: 5800, loss: nan, accuracy: 0.050781\n",
      "step: 5900, loss: nan, accuracy: 0.027344\n",
      "step: 6000, loss: nan, accuracy: 0.027344\n"
     ]
    }
   ],
   "source": [
    "tf.keras.backend.clear_session()\n",
    "\n",
    "# Build neural network model.\n",
    "neural_net = NeuralNet()\n",
    "# Stochastic gradient descent optimizer.\n",
    "optimizer = tf.optimizers.SGD(.001)\n",
    "\n",
    "# Optimization process. \n",
    "def run_optimization(x, y):\n",
    "    # Wrap computation inside a GradientTape for automatic differentiation \n",
    "    # (see Backprop.ipnb for an explanation of the GradientTape)\n",
    "    with tf.GradientTape() as g:\n",
    "        # Forward pass.\n",
    "        pred = neural_net(x, is_training=True)\n",
    "        # Compute loss.\n",
    "        loss = cross_entropy_loss(pred, y)\n",
    "        \n",
    "    # Variables to update, i.e. trainable variables.\n",
    "    trainable_variables = neural_net.trainable_variables\n",
    "\n",
    "    # Compute gradients (backpropagation).\n",
    "    gradients = g.gradient(loss, trainable_variables)\n",
    "    \n",
    "    # Update all of the weights W and biases (y-intercepts) b following gradients.\n",
    "    optimizer.apply_gradients(zip(gradients, trainable_variables))\n",
    "    \n",
    "num_steps = 6000\n",
    "# Run training for the given number of steps.\n",
    "for step, (batch_x, batch_y) in enumerate(train_data.take(num_steps), 1):\n",
    "    # Run the optimization to update W and b values.\n",
    "    run_optimization(batch_x, batch_y)\n",
    "    \n",
    "    if step % display_step == 0 or step==1:\n",
    "        pred = neural_net(batch_x, is_training=True)\n",
    "#         print(\"Shape of pred:\", pred.shape)\n",
    "#         print(\"Shape of batch:\", batch_y.shape)\n",
    "#         print(pred[1, 0])\n",
    "#         print(pred[1, 1])\n",
    "#         print()\n",
    "        loss = cross_entropy_loss(pred, batch_y)\n",
    "        acc = accuracy(pred, batch_y)\n",
    "        print(\"step: %i, loss: %f, accuracy: %f\" % (step, loss, acc))"
   ]
  },
  {
   "cell_type": "markdown",
   "metadata": {},
   "source": [
    "## Test"
   ]
  },
  {
   "cell_type": "code",
   "execution_count": 14,
   "metadata": {},
   "outputs": [
    {
     "name": "stdout",
     "output_type": "stream",
     "text": [
      "Test Accuracy: 0.034338\n"
     ]
    }
   ],
   "source": [
    "# Test model on validation set.\n",
    "pred = neural_net(Xval, is_training=False)\n",
    "print(\"Test Accuracy: %f\" % accuracy(pred, Yval))"
   ]
  }
 ],
 "metadata": {
  "kernelspec": {
   "display_name": "Python 3",
   "language": "python",
   "name": "python3"
  },
  "language_info": {
   "codemirror_mode": {
    "name": "ipython",
    "version": 3
   },
   "file_extension": ".py",
   "mimetype": "text/x-python",
   "name": "python",
   "nbconvert_exporter": "python",
   "pygments_lexer": "ipython3",
   "version": "3.6.10"
  }
 },
 "nbformat": 4,
 "nbformat_minor": 4
}
