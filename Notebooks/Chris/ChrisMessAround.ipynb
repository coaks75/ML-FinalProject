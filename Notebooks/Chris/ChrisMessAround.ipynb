{
 "cells": [
  {
   "cell_type": "markdown",
   "metadata": {},
   "source": [
    "# Start of mess around"
   ]
  },
  {
   "cell_type": "code",
   "execution_count": 1,
   "metadata": {},
   "outputs": [],
   "source": [
    "from __future__ import print_function\n",
    "\n",
    "import numpy as np \n",
    "\n",
    "import matplotlib.pyplot as plt   # use matplotlib for plotting with inline plots\n",
    "plt.set_cmap('jet');\n",
    "%matplotlib inline\n",
    "\n",
    "import warnings\n",
    "warnings.filterwarnings('ignore'); # for deprecated matplotlib functions\n",
    "\n",
    "import math\n",
    "\n",
    "import tensorflow as tf\n",
    "from tensorflow.keras import Model, layers\n",
    "\n",
    "from sklearn.linear_model import LogisticRegression \n",
    "from sklearn.preprocessing import StandardScaler \n",
    "from sklearn.metrics import confusion_matrix, classification_report \n",
    "from sklearn.model_selection import train_test_split\n",
    "from imblearn.over_sampling import SMOTE \n",
    "from imblearn.under_sampling import NearMiss \n"
   ]
  },
  {
   "cell_type": "markdown",
   "metadata": {},
   "source": [
    "# Interesting imports\n",
    "In order to import mltools properly, we need to modify the module path that python thinks we have\n",
    "\n",
    "Basically it adds everything 2 folders up onto our python module path, so referencing \"mltools\" python can see that it is two directories up"
   ]
  },
  {
   "cell_type": "code",
   "execution_count": 2,
   "metadata": {
    "scrolled": false
   },
   "outputs": [],
   "source": [
    "# We need to append the module path so we can work with\n",
    "#     everything that is 2 folders up\n",
    "import sys\n",
    "import os\n",
    "from pathlib import Path\n",
    "\n",
    "path = Path(os.getcwd())\n",
    "project_dir = str(path.parent.parent)\n",
    "curr_path = sys.path\n",
    "data_path = \"\"\n"
   ]
  },
  {
   "cell_type": "code",
   "execution_count": 3,
   "metadata": {},
   "outputs": [
    {
     "name": "stdout",
     "output_type": "stream",
     "text": [
      "Appending' /home/chris/git/ML-FinalProject 'to path\n",
      "Appending' /home/chris/git/ML-FinalProject/data ' to path\n"
     ]
    }
   ],
   "source": [
    "if project_dir not in curr_path:\n",
    "    print(\"Appending'\", project_dir, \"'to path\")\n",
    "    sys.path.append(project_dir)\n",
    "    print(\"Appending'\", project_dir + os.path.sep + \"data '\", \"to path\")\n",
    "    sys.path.append(project_dir + os.path.sep + \"data\")\n",
    "    data_path = project_dir + os.path.sep + \"data\" + os.path.sep\n",
    "    \n",
    "# Uncomment this if youd like to see all your python module paths\n",
    "# print(sys.path)\n",
    "\n",
    "import mltools as ml"
   ]
  },
  {
   "cell_type": "markdown",
   "metadata": {},
   "source": [
    "# Import the data"
   ]
  },
  {
   "cell_type": "code",
   "execution_count": 4,
   "metadata": {
    "scrolled": true
   },
   "outputs": [
    {
     "name": "stdout",
     "output_type": "stream",
     "text": [
      "Data Labels with Column index:\n",
      "\n",
      "0: UniqueID\n",
      "1: SIZE\n",
      "2: BIG4\n",
      "3: GAAP\n",
      "4: CR\n",
      "5: QR\n",
      "6: AT\n",
      "7: CashR\n",
      "8: NWC\n",
      "9: CFOCL\n",
      "10: OM\n",
      "11: TM\n",
      "12: CFM\n",
      "13: ROE\n",
      "14: ROA\n",
      "15: GRIE\n",
      "16: CFONI\n",
      "17: CFOTL\n",
      "18: CFOTR\n",
      "19: CFOTA\n",
      "20: EF\n",
      "21: FAF\n",
      "22: LTDE\n",
      "23: CAT\n",
      "24: DCOH\n",
      "25: ACP\n",
      "26: AAP\n",
      "27: DR\n",
      "28: DSCR\n",
      "29: CFOLTL\n",
      "30: TAT\n",
      "31: FAT\n",
      "32: DEPR\n",
      "33: CFOFA\n",
      "34: APP\n",
      "35: 2008\n",
      "36: 2009\n",
      "37: 2010\n",
      "38: 2011\n",
      "39: 2012\n",
      "40: 2013\n",
      "41: 2014\n",
      "42: 2015\n",
      "43: 2016\n",
      "44: 2017\n",
      "45: 2018\n",
      "Class Frequencies:\n",
      " [[   0. 4542.]\n",
      " [   1.  233.]]\n"
     ]
    }
   ],
   "source": [
    "# print(sys.path)\n",
    "# print(data_path)\n",
    "X_train = np.genfromtxt(data_path + \"X_train.txt\", delimiter=None, skip_header=1)\n",
    "X_test = np.genfromtxt(data_path + \"X_test.txt\", delimiter=None, skip_header=1)\n",
    "Y_train = np.genfromtxt(data_path + \"Y_train.txt\", delimiter=None, skip_header=1)\n",
    "Data_Labels = np.genfromtxt(data_path + \"X_train.txt\", delimiter=None, dtype=str, max_rows=1)\n",
    "\n",
    "print(\"Data Labels with Column index:\\n\")\n",
    "for i in range(len(Data_Labels)):\n",
    "    print(str(i) + \": \" + str(Data_Labels[i]))\n",
    "\n",
    "X,Y =(X_train[1:],Y_train[1:,1:])\n",
    "\n",
    "# Tells numpy not to print everything in scientific notation \n",
    "np.set_printoptions(suppress=True)\n",
    "\n",
    "# print out the number of each class\n",
    "(y_class, counts) = np.unique(Y, return_counts=True)\n",
    "class_frequencies = np.asarray((y_class, counts)).T\n",
    "\n",
    "print(\"Class Frequencies:\\n\", class_frequencies)\n",
    "\n"
   ]
  },
  {
   "cell_type": "markdown",
   "metadata": {},
   "source": [
    "## Lets try TensorFlow"
   ]
  },
  {
   "cell_type": "code",
   "execution_count": 5,
   "metadata": {},
   "outputs": [
    {
     "name": "stdout",
     "output_type": "stream",
     "text": [
      "Columns we are currently using: ['SIZE' 'BIG4' 'GAAP' 'CR' 'QR' 'CashR' 'NWC' 'LTDE' 'DEPR']\n"
     ]
    }
   ],
   "source": [
    "# Network Parameters\n",
    "n_hidden_1 = 8 # 1st layer number of neurons\n",
    "n_hidden_2 = 16 # 2nd layer number of neurons\n",
    "\n",
    "# Split the data\n",
    "cols_using = [1, 2, 3, 4, 5, 7, 8, 22, 32]\n",
    "\n",
    "Xtrain,Xval,Ytrain,Yval = ml.splitData(X_train[:, cols_using],Y_train[:, 1], 0.75) # split data set 75/25\n",
    "\n",
    "Xtrain, Xval = np.array(Xtrain, np.float32), np.array(Xval, np.float32)\n",
    "Xtest = np.array(X_test[:, cols_using], np.float32)\n",
    "\n",
    "\n",
    "# Data Parameters\n",
    "num_features = len(cols_using)\n",
    "num_classes = 2 # We have 2 classes, yes or no\n",
    "\n",
    "tot_dist = 0\n",
    "for i in range(len(Ytrain)):\n",
    "    if Ytrain[i] == 1:\n",
    "        tot_dist += 1\n",
    "\n",
    "# print(\"Total distress:\", tot_dist)\n",
    "\n",
    "# neg = Ytrain.shape[0] - tot_dist\n",
    "# initial_bias = np.log([tot_dist/neg])\n",
    "\n",
    "# print(\"Bias:\", initial_bias)\n",
    "        \n",
    "# Parameters\n",
    "learning_rate = 0.01    # alpha for gradient descent\n",
    "num_steps = 6000       # iterations for gradient descent\n",
    "batch_size = 128       # number of inputs to look at simultaneously (good for large data!)\n",
    "display_step = 100     # when to print out some feedback\n",
    "\n",
    "print(\"Columns we are currently using:\", Data_Labels[cols_using])\n"
   ]
  },
  {
   "cell_type": "markdown",
   "metadata": {},
   "source": [
    "## Create our NN model, this inherits from TF"
   ]
  },
  {
   "cell_type": "code",
   "execution_count": 6,
   "metadata": {},
   "outputs": [],
   "source": [
    "# Create TF Model. Our NeuralNet inherits from the generic TF Model class\n",
    "class NeuralNet(Model):\n",
    "    # Set layers.\n",
    "    def __init__(self):\n",
    "        super(NeuralNet, self).__init__()\n",
    "        curr_activation = tf.nn.relu\n",
    "        # First fully-connected hidden layer. Activation function (threshold function) is \n",
    "        # rectified linear.\n",
    "#         output_bias=tf.constant_initializer(output_bias[0])\n",
    "#         output_bias = tf.ones_initializer()\n",
    "#         output_bias=tf.keras.backend.variable(output_bias[0])\n",
    "        self.h1 = layers.Dense(n_hidden_1, activation=curr_activation)\n",
    "        \n",
    "        self.h2 = layers.Dropout(0.5)\n",
    "        \n",
    "        # First fully-connected hidden layer. Activation function (threshold function) is \n",
    "        # rectified linear.\n",
    "        self.h3 = layers.Dense(n_hidden_2, activation=curr_activation)\n",
    "        self.h4 = layers.Dropout(0.5)\n",
    "        # Second fully-connecter hidden layer. Activation function is using \"softmax\" to\n",
    "        # normalize output as a probability distribution over the 2 classes (digits 0 or 1)\n",
    "        self.out = layers.Dense(num_classes, activation=tf.nn.softmax)\n",
    "\n",
    "    # Set forward pass--this defines the input layer (h1) and output layer (out) and then\n",
    "    # formats the final results as a probability distribution over the classes using softmax\n",
    "    def call(self, x, is_training=False):\n",
    "        x = self.h1(x)\n",
    "        x = self.out(x)\n",
    "        if not is_training:\n",
    "            # tf cross entropy expect logits (positions on the logistic regression sigmoid)\n",
    "            # without softmax normalization, so only apply softmax when not training.\n",
    "            x = tf.nn.softmax(x)\n",
    "        return x\n",
    "           "
   ]
  },
  {
   "cell_type": "markdown",
   "metadata": {},
   "source": [
    "## Specify Loss"
   ]
  },
  {
   "cell_type": "code",
   "execution_count": 7,
   "metadata": {},
   "outputs": [],
   "source": [
    "# Cross-Entropy Loss.\n",
    "# Note that this will apply 'softmax' to the logits as part of the function, so don't do\n",
    "# it before calling.\n",
    "def cross_entropy_loss(x, y):\n",
    "    # Convert labels to int 64 for tf cross-entropy function.\n",
    "    y = tf.cast(y, tf.int64)\n",
    "    # Apply softmax to logits and compute cross-entropy.\n",
    "    loss = tf.nn.sparse_softmax_cross_entropy_with_logits(labels=y, logits=x)\n",
    "    # Average loss across the batch.\n",
    "    return tf.reduce_mean(loss)\n",
    "\n",
    "# Accuracy metric. This counts how many of our predictions we get right based on \n",
    "# choosing the prediction with the highest probability. \n",
    "def accuracy(y_pred, y_true):\n",
    "    # Predicted class is the index of highest score in prediction vector (i.e. argmax).\n",
    "    correct_prediction = tf.equal(tf.argmax(y_pred, 1), tf.cast(y_true, tf.int64))\n",
    "    return tf.reduce_mean(tf.cast(correct_prediction, tf.float32), axis=-1)"
   ]
  },
  {
   "cell_type": "markdown",
   "metadata": {},
   "source": [
    "## Attempt to train?"
   ]
  },
  {
   "cell_type": "code",
   "execution_count": 10,
   "metadata": {},
   "outputs": [],
   "source": [
    "# Optimization process. \n",
    "def run_optimization(x, y, nn):\n",
    "    # Wrap computation inside a GradientTape for automatic differentiation \n",
    "    # (see Backprop.ipnb for an explanation of the GradientTape)\n",
    "    with tf.GradientTape() as g:\n",
    "        # Forward pass.\n",
    "        pred = nn(x, is_training=True)\n",
    "        # Compute loss.\n",
    "        loss = cross_entropy_loss(pred, y)\n",
    "        \n",
    "    # Variables to update, i.e. trainable variables.\n",
    "    trainable_variables = nn.trainable_variables\n",
    "\n",
    "    # Compute gradients (backpropagation).\n",
    "    gradients = g.gradient(loss, trainable_variables)\n",
    "    \n",
    "    # Update all of the weights W and biases (y-intercepts) b following gradients.\n",
    "    optimizer.apply_gradients(zip(gradients, trainable_variables))\n",
    "    \n",
    "def run_training(nn, training_data):\n",
    "    # Run training for the given number of steps.\n",
    "    for step, (batch_x, batch_y) in enumerate(training_data.take(num_steps), 1):\n",
    "        # Run the optimization to update W and b values.\n",
    "        run_optimization(batch_x, batch_y, nn)\n",
    "\n",
    "        if step % display_step == 0 or step==1:\n",
    "            pred = nn(batch_x, is_training=True)     \n",
    "            loss = cross_entropy_loss(pred, batch_y)\n",
    "            acc = accuracy(pred, batch_y)\n",
    "            print(\"step: %i, loss: %f, accuracy: %f\" % (step, loss, acc))\n",
    "            print()"
   ]
  },
  {
   "cell_type": "code",
   "execution_count": 11,
   "metadata": {
    "scrolled": false
   },
   "outputs": [
    {
     "name": "stdout",
     "output_type": "stream",
     "text": [
      "Class Frequencies:\n",
      " [[   0. 3407.]\n",
      " [   1. 3407.]]\n",
      "step: 1, loss: 0.609179, accuracy: 0.687500\n",
      "\n",
      "step: 100, loss: 0.598505, accuracy: 0.687500\n",
      "\n",
      "step: 200, loss: 0.606754, accuracy: 0.679688\n",
      "\n",
      "step: 300, loss: 0.552282, accuracy: 0.835938\n",
      "\n",
      "step: 400, loss: 0.540153, accuracy: 0.859375\n",
      "\n",
      "step: 500, loss: 0.550187, accuracy: 0.835938\n",
      "\n",
      "step: 600, loss: 0.497482, accuracy: 0.914062\n",
      "\n",
      "step: 700, loss: 0.534170, accuracy: 0.828125\n",
      "\n",
      "step: 800, loss: 0.499187, accuracy: 0.851562\n",
      "\n",
      "step: 900, loss: 0.500504, accuracy: 0.867188\n",
      "\n",
      "step: 1000, loss: 0.486761, accuracy: 0.851562\n",
      "\n",
      "step: 1100, loss: 0.460393, accuracy: 0.906250\n",
      "\n",
      "step: 1200, loss: 0.496599, accuracy: 0.835938\n",
      "\n",
      "step: 1300, loss: 0.487220, accuracy: 0.851562\n",
      "\n",
      "step: 1400, loss: 0.453038, accuracy: 0.906250\n",
      "\n",
      "step: 1500, loss: 0.459609, accuracy: 0.882812\n",
      "\n",
      "step: 1600, loss: 0.463901, accuracy: 0.898438\n",
      "\n",
      "step: 1700, loss: 0.468835, accuracy: 0.867188\n",
      "\n",
      "step: 1800, loss: 0.440306, accuracy: 0.882812\n",
      "\n",
      "step: 1900, loss: 0.497278, accuracy: 0.820312\n",
      "\n",
      "step: 2000, loss: 0.485072, accuracy: 0.789062\n",
      "\n",
      "step: 2100, loss: 0.478318, accuracy: 0.835938\n",
      "\n",
      "step: 2200, loss: 0.481830, accuracy: 0.835938\n",
      "\n",
      "step: 2300, loss: 0.488937, accuracy: 0.812500\n",
      "\n",
      "step: 2400, loss: 0.444312, accuracy: 0.882812\n",
      "\n",
      "step: 2500, loss: 0.445691, accuracy: 0.882812\n",
      "\n",
      "step: 2600, loss: 0.509901, accuracy: 0.851562\n",
      "\n",
      "step: 2700, loss: 0.458961, accuracy: 0.882812\n",
      "\n",
      "step: 2800, loss: 0.465614, accuracy: 0.843750\n",
      "\n",
      "step: 2900, loss: 0.448415, accuracy: 0.882812\n",
      "\n",
      "step: 3000, loss: 0.454268, accuracy: 0.867188\n",
      "\n",
      "step: 3100, loss: 0.418799, accuracy: 0.937500\n",
      "\n",
      "step: 3200, loss: 0.441896, accuracy: 0.875000\n",
      "\n",
      "step: 3300, loss: 0.489408, accuracy: 0.828125\n",
      "\n",
      "step: 3400, loss: 0.477036, accuracy: 0.859375\n",
      "\n",
      "step: 3500, loss: 0.410685, accuracy: 0.906250\n",
      "\n",
      "step: 3600, loss: 0.466458, accuracy: 0.843750\n",
      "\n",
      "step: 3700, loss: 0.432066, accuracy: 0.890625\n",
      "\n",
      "step: 3800, loss: 0.480065, accuracy: 0.835938\n",
      "\n",
      "step: 3900, loss: 0.486073, accuracy: 0.828125\n",
      "\n",
      "step: 4000, loss: 0.438259, accuracy: 0.882812\n",
      "\n",
      "step: 4100, loss: 0.460717, accuracy: 0.859375\n",
      "\n",
      "step: 4200, loss: 0.471496, accuracy: 0.820312\n",
      "\n",
      "step: 4300, loss: 0.492890, accuracy: 0.820312\n",
      "\n",
      "step: 4400, loss: 0.471564, accuracy: 0.851562\n",
      "\n",
      "step: 4500, loss: 0.484221, accuracy: 0.835938\n",
      "\n",
      "step: 4600, loss: 0.420484, accuracy: 0.882812\n",
      "\n",
      "step: 4700, loss: 0.483450, accuracy: 0.843750\n",
      "\n",
      "step: 4800, loss: 0.457874, accuracy: 0.859375\n",
      "\n",
      "step: 4900, loss: 0.431820, accuracy: 0.867188\n",
      "\n",
      "step: 5000, loss: 0.475515, accuracy: 0.828125\n",
      "\n",
      "step: 5100, loss: 0.489500, accuracy: 0.820312\n",
      "\n",
      "step: 5200, loss: 0.456641, accuracy: 0.867188\n",
      "\n",
      "step: 5300, loss: 0.465610, accuracy: 0.835938\n",
      "\n",
      "step: 5400, loss: 0.448426, accuracy: 0.859375\n",
      "\n",
      "step: 5500, loss: 0.456399, accuracy: 0.843750\n",
      "\n",
      "step: 5600, loss: 0.419989, accuracy: 0.914062\n",
      "\n",
      "step: 5700, loss: 0.423646, accuracy: 0.906250\n",
      "\n",
      "step: 5800, loss: 0.511831, accuracy: 0.765625\n",
      "\n",
      "step: 5900, loss: 0.466117, accuracy: 0.859375\n",
      "\n",
      "step: 6000, loss: 0.441442, accuracy: 0.882812\n",
      "\n"
     ]
    }
   ],
   "source": [
    "# Create a dataset where we over sample our data\n",
    "sm = SMOTE(random_state = 2) \n",
    "\n",
    "Xtrain_res, Ytrain_res = sm.fit_sample(Xtrain, Ytrain.ravel()) \n",
    "\n",
    "# scale the data so our different X features and their ranges don't confuse the learner\n",
    "scale = StandardScaler().fit(Xtrain_res)\n",
    "Xtrain_res_scaled = scale.transform(Xtrain_res)\n",
    "Xval_scaled = scale.transform(Xval)\n",
    "Xtest_scaled = scale.transform(Xtest)\n",
    "\n",
    "# print out the number of each class\n",
    "(y_class, counts) = np.unique(Ytrain_res, return_counts=True)\n",
    "class_frequencies = np.asarray((y_class, counts)).T\n",
    "\n",
    "print(\"Class Frequencies:\\n\", class_frequencies)\n",
    "# Use tf.data API to shuffle and batch data (batches will make it faster to queue up \n",
    "# sets of images for training all at one time--a convenient way to split up large data sets)\n",
    "oversample_data = tf.data.Dataset.from_tensor_slices((Xtrain_res_scaled, Ytrain_res.ravel()))\n",
    "\n",
    "oversample_data = oversample_data.repeat().shuffle(5000).batch(batch_size).prefetch(1)\n",
    "\n",
    "# Build neural network model.\n",
    "neural_net_over_sample = NeuralNet()\n",
    "\n",
    "# Stochastic gradient descent optimizer.\n",
    "optimizer = tf.optimizers.SGD(learning_rate)\n",
    "            \n",
    "run_training(neural_net_over_sample, oversample_data)\n",
    "\n"
   ]
  },
  {
   "cell_type": "markdown",
   "metadata": {},
   "source": [
    "## Test"
   ]
  },
  {
   "cell_type": "code",
   "execution_count": 14,
   "metadata": {
    "scrolled": true
   },
   "outputs": [
    {
     "name": "stdout",
     "output_type": "stream",
     "text": [
      "Test Accuracy: 0.824121\n",
      "0\n"
     ]
    }
   ],
   "source": [
    "# Test model on validation set.\n",
    "pred = neural_net_over_sample(Xval_scaled, is_training=False)\n",
    "print(\"Test Accuracy: %f\" % accuracy(pred, Yval))\n",
    "pred2 = neural_net_over_sample(Xtest_scaled, is_training=False)\n",
    "\n",
    "file = open(\"submission.txt\",\"w+\")\n",
    "num_distress = 0\n",
    "num_dist = 0\n",
    "for i in range(len(Xtest)):\n",
    "    prediction = np.argmax(pred2.numpy()[i])\n",
    "    file.write(str(int(X_test[i, 0])) + \",\" + str(pred2.numpy()[i][prediction]) + \"\\n\")\n",
    "    num_distress += prediction\n",
    "\n",
    "file.close()\n",
    "print(\"Num in distresnum_distress)"
   ]
  }
 ],
 "metadata": {
  "kernelspec": {
   "display_name": "Python 3",
   "language": "python",
   "name": "python3"
  },
  "language_info": {
   "codemirror_mode": {
    "name": "ipython",
    "version": 3
   },
   "file_extension": ".py",
   "mimetype": "text/x-python",
   "name": "python",
   "nbconvert_exporter": "python",
   "pygments_lexer": "ipython3",
   "version": "3.6.10"
  }
 },
 "nbformat": 4,
 "nbformat_minor": 4
}
