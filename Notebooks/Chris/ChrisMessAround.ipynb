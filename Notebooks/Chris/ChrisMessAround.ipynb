{
 "cells": [
  {
   "cell_type": "markdown",
   "metadata": {},
   "source": [
    "# Start of mess around"
   ]
  },
  {
   "cell_type": "code",
   "execution_count": 1,
   "metadata": {},
   "outputs": [],
   "source": [
    "import numpy as np \n",
    "\n",
    "import matplotlib.pyplot as plt   # use matplotlib for plotting with inline plots\n",
    "plt.set_cmap('jet');\n",
    "%matplotlib inline\n",
    "\n",
    "import warnings\n",
    "warnings.filterwarnings('ignore'); # for deprecated matplotlib functions\n",
    "\n",
    "import math\n"
   ]
  },
  {
   "cell_type": "markdown",
   "metadata": {},
   "source": [
    "# Interesting imports\n",
    "In order to import mltools properly, we need to modify the module path that python thinks we have\n",
    "\n",
    "Basically it adds everything 2 folders up onto our python module path, so referencing \"mltools\" python can see that it is two directories up"
   ]
  },
  {
   "cell_type": "code",
   "execution_count": 2,
   "metadata": {
    "scrolled": false
   },
   "outputs": [
    {
     "name": "stdout",
     "output_type": "stream",
     "text": [
      "Appending' /home/chris/git/ML-FinalProject 'to path\n",
      "Appending' /home/chris/git/ML-FinalProject/data ' to path\n"
     ]
    }
   ],
   "source": [
    "# We need to append the module path so we can work with\n",
    "#     everything that is 2 folders up\n",
    "import sys\n",
    "import os\n",
    "from pathlib import Path\n",
    "\n",
    "path = Path(os.getcwd())\n",
    "project_dir = str(path.parent.parent)\n",
    "\n",
    "curr_path = sys.path\n",
    "data_path = \"\"\n",
    "if project_dir not in curr_path:\n",
    "    print(\"Appending'\", project_dir, \"'to path\")\n",
    "    sys.path.append(project_dir)\n",
    "    print(\"Appending'\", project_dir + os.path.sep + \"data '\", \"to path\")\n",
    "    sys.path.append(project_dir + os.path.sep + \"data\")\n",
    "    data_path = project_dir + os.path.sep + \"data\" + os.path.sep\n",
    "    \n",
    "# Uncomment this if youd like to see all your python module paths\n",
    "# print(sys.path)\n",
    "\n",
    "import mltools as ml\n"
   ]
  },
  {
   "cell_type": "markdown",
   "metadata": {},
   "source": [
    "# Import the data"
   ]
  },
  {
   "cell_type": "code",
   "execution_count": 4,
   "metadata": {
    "scrolled": false
   },
   "outputs": [],
   "source": [
    "# print(sys.path)\n",
    "X_train = np.genfromtxt(data_path + \"X_train.txt\", delimiter=\",\", skip_header=1)\n",
    "X_test = np.genfromtxt(data_path + \"X_test.txt\", delimiter=None, skip_header=1)\n",
    "Y_train = np.genfromtxt(data_path + \"Y_train.txt\", delimiter=None, skip_header=1)\n",
    "\n"
   ]
  }
 ],
 "metadata": {
  "kernelspec": {
   "display_name": "Python 3",
   "language": "python",
   "name": "python3"
  },
  "language_info": {
   "codemirror_mode": {
    "name": "ipython",
    "version": 3
   },
   "file_extension": ".py",
   "mimetype": "text/x-python",
   "name": "python",
   "nbconvert_exporter": "python",
   "pygments_lexer": "ipython3",
   "version": "3.6.10"
  }
 },
 "nbformat": 4,
 "nbformat_minor": 4
}
